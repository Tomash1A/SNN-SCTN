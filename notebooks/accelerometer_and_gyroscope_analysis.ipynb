{
 "cells": [
  {
   "cell_type": "code",
   "execution_count": 1,
   "id": "initial_id",
   "metadata": {
    "collapsed": true,
    "ExecuteTime": {
     "end_time": "2024-02-06T21:14:16.329178Z",
     "start_time": "2024-02-06T21:14:15.750595Z"
    }
   },
   "outputs": [],
   "source": [
    "import pandas as pd\n",
    "import matplotlib.pyplot as plt\n",
    "from scipy.signal import welch\n",
    "import numpy as np\n",
    "\n",
    "FILE_PATH = \"../dataset/imu.txt\"\n",
    "# FILE_PATH = \"../dataset/RawGyro.csv\""
   ]
  },
  {
   "cell_type": "code",
   "outputs": [
    {
     "data": {
      "text/plain": "           #    timestamp  ang_vel_x  ang_vel_y  ang_vel_z  lin_acc_x  \\\n0          0  4878.790299  -0.004261  -0.001065  -0.009587  -0.033519   \n1          1  4878.792303  -0.007457  -0.005326  -0.005326  -0.052672   \n2          2  4878.794301  -0.006392  -0.007457  -0.002131  -0.081402   \n3          3  4878.796302  -0.005326  -0.007457  -0.005326  -0.076614   \n4          4  4878.798302  -0.003196  -0.006392  -0.005326  -0.100556   \n...      ...          ...        ...        ...        ...        ...   \n46048  46048  4970.886300  -0.002131  -0.001065  -0.004261  -0.014365   \n46049  46049  4970.888300  -0.003196  -0.001065  -0.003196  -0.014365   \n46050  46050  4970.890298  -0.002131  -0.001065  -0.003196   0.000000   \n46051  46051  4970.892300  -0.005326  -0.001065  -0.005326  -0.043095   \n46052  46052  4970.894298  -0.006392  -0.002131  -0.001065  -0.028730   \n\n       lin_acc_y  lin_acc_z  \n0      -0.158017   9.797023  \n1      -0.134075   9.777869  \n2      -0.138863   9.715620  \n3      -0.143651   9.715620  \n4      -0.177170   9.658160  \n...          ...        ...  \n46048  -0.244207   9.773081  \n46049  -0.234631   9.792234  \n46050  -0.220265   9.777869  \n46051  -0.220265   9.777869  \n46052  -0.210689   9.739562  \n\n[46053 rows x 8 columns]",
      "text/html": "<div>\n<style scoped>\n    .dataframe tbody tr th:only-of-type {\n        vertical-align: middle;\n    }\n\n    .dataframe tbody tr th {\n        vertical-align: top;\n    }\n\n    .dataframe thead th {\n        text-align: right;\n    }\n</style>\n<table border=\"1\" class=\"dataframe\">\n  <thead>\n    <tr style=\"text-align: right;\">\n      <th></th>\n      <th>#</th>\n      <th>timestamp</th>\n      <th>ang_vel_x</th>\n      <th>ang_vel_y</th>\n      <th>ang_vel_z</th>\n      <th>lin_acc_x</th>\n      <th>lin_acc_y</th>\n      <th>lin_acc_z</th>\n    </tr>\n  </thead>\n  <tbody>\n    <tr>\n      <th>0</th>\n      <td>0</td>\n      <td>4878.790299</td>\n      <td>-0.004261</td>\n      <td>-0.001065</td>\n      <td>-0.009587</td>\n      <td>-0.033519</td>\n      <td>-0.158017</td>\n      <td>9.797023</td>\n    </tr>\n    <tr>\n      <th>1</th>\n      <td>1</td>\n      <td>4878.792303</td>\n      <td>-0.007457</td>\n      <td>-0.005326</td>\n      <td>-0.005326</td>\n      <td>-0.052672</td>\n      <td>-0.134075</td>\n      <td>9.777869</td>\n    </tr>\n    <tr>\n      <th>2</th>\n      <td>2</td>\n      <td>4878.794301</td>\n      <td>-0.006392</td>\n      <td>-0.007457</td>\n      <td>-0.002131</td>\n      <td>-0.081402</td>\n      <td>-0.138863</td>\n      <td>9.715620</td>\n    </tr>\n    <tr>\n      <th>3</th>\n      <td>3</td>\n      <td>4878.796302</td>\n      <td>-0.005326</td>\n      <td>-0.007457</td>\n      <td>-0.005326</td>\n      <td>-0.076614</td>\n      <td>-0.143651</td>\n      <td>9.715620</td>\n    </tr>\n    <tr>\n      <th>4</th>\n      <td>4</td>\n      <td>4878.798302</td>\n      <td>-0.003196</td>\n      <td>-0.006392</td>\n      <td>-0.005326</td>\n      <td>-0.100556</td>\n      <td>-0.177170</td>\n      <td>9.658160</td>\n    </tr>\n    <tr>\n      <th>...</th>\n      <td>...</td>\n      <td>...</td>\n      <td>...</td>\n      <td>...</td>\n      <td>...</td>\n      <td>...</td>\n      <td>...</td>\n      <td>...</td>\n    </tr>\n    <tr>\n      <th>46048</th>\n      <td>46048</td>\n      <td>4970.886300</td>\n      <td>-0.002131</td>\n      <td>-0.001065</td>\n      <td>-0.004261</td>\n      <td>-0.014365</td>\n      <td>-0.244207</td>\n      <td>9.773081</td>\n    </tr>\n    <tr>\n      <th>46049</th>\n      <td>46049</td>\n      <td>4970.888300</td>\n      <td>-0.003196</td>\n      <td>-0.001065</td>\n      <td>-0.003196</td>\n      <td>-0.014365</td>\n      <td>-0.234631</td>\n      <td>9.792234</td>\n    </tr>\n    <tr>\n      <th>46050</th>\n      <td>46050</td>\n      <td>4970.890298</td>\n      <td>-0.002131</td>\n      <td>-0.001065</td>\n      <td>-0.003196</td>\n      <td>0.000000</td>\n      <td>-0.220265</td>\n      <td>9.777869</td>\n    </tr>\n    <tr>\n      <th>46051</th>\n      <td>46051</td>\n      <td>4970.892300</td>\n      <td>-0.005326</td>\n      <td>-0.001065</td>\n      <td>-0.005326</td>\n      <td>-0.043095</td>\n      <td>-0.220265</td>\n      <td>9.777869</td>\n    </tr>\n    <tr>\n      <th>46052</th>\n      <td>46052</td>\n      <td>4970.894298</td>\n      <td>-0.006392</td>\n      <td>-0.002131</td>\n      <td>-0.001065</td>\n      <td>-0.028730</td>\n      <td>-0.210689</td>\n      <td>9.739562</td>\n    </tr>\n  </tbody>\n</table>\n<p>46053 rows × 8 columns</p>\n</div>"
     },
     "execution_count": 2,
     "metadata": {},
     "output_type": "execute_result"
    }
   ],
   "source": [
    "#gyro_accel_data = pd.read_csv('../dataset/RawGyro.csv')\n",
    "# Read the text file into a DataFrame\n",
    "gyro_accel_data = pd.read_csv(FILE_PATH,sep=\" \")\n",
    "\n",
    "# Print the type of the DataFrame\n",
    "gyro_accel_data  # Instead of gyro_accel_data[' timestamp']\n"
   ],
   "metadata": {
    "collapsed": false,
    "ExecuteTime": {
     "end_time": "2024-02-06T21:14:27.648842Z",
     "start_time": "2024-02-06T21:14:27.617238Z"
    }
   },
   "id": "5bc4f8ffabb4c406",
   "execution_count": 2
  },
  {
   "cell_type": "code",
   "outputs": [],
   "source": [],
   "metadata": {
    "collapsed": false
   },
   "id": "4abdc6843a77877f"
  }
 ],
 "metadata": {
  "kernelspec": {
   "display_name": "Python 3",
   "language": "python",
   "name": "python3"
  },
  "language_info": {
   "codemirror_mode": {
    "name": "ipython",
    "version": 2
   },
   "file_extension": ".py",
   "mimetype": "text/x-python",
   "name": "python",
   "nbconvert_exporter": "python",
   "pygments_lexer": "ipython2",
   "version": "2.7.6"
  }
 },
 "nbformat": 4,
 "nbformat_minor": 5
}
