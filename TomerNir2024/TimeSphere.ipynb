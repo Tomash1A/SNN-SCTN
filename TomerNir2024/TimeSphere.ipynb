{
 "cells": [
  {
   "cell_type": "markdown",
   "source": [
    "# Time Domain Sphere Representation:\n",
    "### this notebook takes the IMU samples from: https://fpv.ifi.uzh.ch/datasets/, and shows the represntation  of it on a sphere with a radius of 1."
   ],
   "metadata": {
    "collapsed": false
   },
   "id": "239a411d70fcd9c2"
  },
  {
   "cell_type": "markdown",
   "source": [
    "#### Download the zip file from the site, and extract the needed data."
   ],
   "metadata": {
    "collapsed": false
   },
   "id": "1b4d7a89cea935b5"
  },
  {
   "cell_type": "code",
   "outputs": [],
   "source": [
    "import requests\n",
    "import zipfile\n",
    "import io\n",
    "import numpy as np\n",
    "\n",
    "# Function to download the zip file\n",
    "def download_zip(url, save_path):\n",
    "    response = requests.get(url)\n",
    "    with open(save_path, 'wb') as f:\n",
    "        f.write(response.content)\n",
    "\n",
    "# Function to read data from 'imu.txt' into arrays for each column\n",
    "def read_imu_data(zip_path):\n",
    "    serial_num = []\n",
    "    timestamps = []\n",
    "    wx_values = []\n",
    "    wy_values = []\n",
    "    wz_values = []\n",
    "    ax_values = []\n",
    "    ay_values = []\n",
    "    az_values = []\n",
    "    \n",
    "    with zipfile.ZipFile(zip_path, 'r') as zip_ref:\n",
    "        with zip_ref.open('imu.txt') as imu_file:\n",
    "            next(imu_file)  # Skip the first line\n",
    "            for line in imu_file:\n",
    "                line = line.decode('utf-8').strip().split()\n",
    "                sn, ts, wx, wy, wz, ax, ay, az = map(float, line)\n",
    "                serial_num.append(sn)\n",
    "                timestamps.append(ts)\n",
    "                wx_values.append(wx)\n",
    "                wy_values.append(wy)\n",
    "                wz_values.append(wz)\n",
    "                ax_values.append(ax)\n",
    "                ay_values.append(ay)\n",
    "                az_values.append(az)\n",
    "    \n",
    "    # Convert lists to numpy arrays\n",
    "    serial_num = np.array(serial_num)\n",
    "    timestamps = np.array(timestamps)\n",
    "    wx_values = np.array(wx_values)\n",
    "    wy_values = np.array(wy_values)\n",
    "    wz_values = np.array(wz_values)\n",
    "    ax_values = np.array(ax_values)\n",
    "    ay_values = np.array(ay_values)\n",
    "    az_values = np.array(az_values)\n",
    "    \n",
    "    return serial_num, timestamps, wx_values, wy_values, wz_values, ax_values, ay_values, az_values\n",
    "\n",
    "# URL of the zip file\n",
    "zip_url = 'http://rpg.ifi.uzh.ch/datasets/uzh-fpv-newer-versions/v3/indoor_forward_9_davis_with_gt.zip'\n",
    "#'http://rpg.ifi.uzh.ch/datasets/uzh-fpv-newer-versions/v3/indoor_forward_3_davis_with_gt.zip'\n",
    "\n",
    "# Path to save the downloaded zip file\n",
    "zip_save_path = 'indoor_forward_3_davis_with_gt.zip'\n",
    "\n",
    "# Download the zip file\n",
    "download_zip(zip_url, zip_save_path)\n",
    "\n",
    "# Read data from the 'imu.txt' file into arrays for each column\n",
    "samp_num, timestamps, wx_values, wy_values, wz_values, ax_values, ay_values, az_values = read_imu_data(zip_save_path)\n"
   ],
   "metadata": {
    "collapsed": false,
    "ExecuteTime": {
     "end_time": "2024-05-30T13:21:41.482039Z",
     "start_time": "2024-05-30T13:20:24.791922Z"
    }
   },
   "id": "317870e39a27edda",
   "execution_count": 1
  },
  {
   "cell_type": "markdown",
   "source": [
    "#### Show the representation of the sample on the sphere: \n",
    "##### Linear Acceleration:"
   ],
   "metadata": {
    "collapsed": false
   },
   "id": "c8f9d46f5bd41c22"
  },
  {
   "cell_type": "code",
   "outputs": [],
   "source": [
    "%matplotlib qt\n",
    "import numpy as np\n",
    "import matplotlib.pyplot as plt\n",
    "from mpl_toolkits.mplot3d import Axes3D\n",
    "\n",
    "def plot_sphere(ax, ay, az):\n",
    "    # Normalize the acceleration data\n",
    "    norm = np.sqrt(ax**2 + ay**2 + az**2)\n",
    "    ax_norm = ax / norm\n",
    "    ay_norm = ay / norm\n",
    "    az_norm = az / norm\n",
    "\n",
    "    # Create a figure and 3D axis\n",
    "    fig = plt.figure()\n",
    "    ax_plot = fig.add_subplot(111, projection='3d')\n",
    "\n",
    "    # Plot the sphere\n",
    "    u = np.linspace(0, 2 * np.pi, 100)\n",
    "    v = np.linspace(0, np.pi, 100)\n",
    "    x = np.outer(np.cos(u), np.sin(v))\n",
    "    y = np.outer(np.sin(u), np.sin(v))\n",
    "    z = np.outer(np.ones(np.size(u)), np.cos(v))\n",
    "\n",
    "    # Plot the normalized acceleration samples on the sphere\n",
    "    ax_plot.scatter(ax_norm, ay_norm, az_norm, c='r', marker='o')\n",
    "\n",
    "    # Connect the acceleration samples with lines\n",
    "    for i in range(len(ax_norm) - 1):\n",
    "        ax_plot.plot([ax_norm[i], ax_norm[i + 1]], [ay_norm[i], ay_norm[i + 1]], [az_norm[i], az_norm[i + 1]], color='r', linestyle='-', linewidth=2)\n",
    "\n",
    "    # Plot the sphere wireframe\n",
    "    ax_plot.plot_wireframe(x, y, z, color='k', alpha=0.1)\n",
    "\n",
    "    # Set axis labels and title\n",
    "    ax_plot.set_xlabel('X')\n",
    "    ax_plot.set_ylabel('Y')\n",
    "    ax_plot.set_zlabel('Z')\n",
    "    ax_plot.set_title('Acceleration Data on a Unit Sphere')\n",
    "\n",
    "    # Adjust the aspect ratio and view angle\n",
    "    max_radius = 1.2\n",
    "    ax_plot.auto_scale_xyz([-max_radius, max_radius], [-max_radius, max_radius], [-max_radius, max_radius])\n",
    "    ax_plot.view_init(elev=30, azim=-45)\n",
    "\n",
    "    plt.show()\n",
    "\n",
    "# Example usage\n",
    "ax = ax_values[::100]\n",
    "ay = ay_values[::100]\n",
    "az = az_values[::100]\n",
    "\n",
    "plot_sphere(ax, ay, az)"
   ],
   "metadata": {
    "collapsed": false,
    "ExecuteTime": {
     "end_time": "2024-05-30T13:22:00.728599Z",
     "start_time": "2024-05-30T13:21:57.874811Z"
    }
   },
   "id": "4681277a46a80840",
   "execution_count": 2
  },
  {
   "cell_type": "markdown",
   "source": [
    "##### Angular Acceleration"
   ],
   "metadata": {
    "collapsed": false
   },
   "id": "9d3923534cc91117"
  },
  {
   "cell_type": "code",
   "outputs": [],
   "source": [
    "import numpy as np\n",
    "import matplotlib.pyplot as plt\n",
    "from mpl_toolkits.mplot3d import Axes3D\n",
    "\n",
    "def plot_sphere(wx, wy, wz, radius=1):\n",
    "    # Normalize the angular acceleration data\n",
    "    norm = np.sqrt(wx**2 + wy**2 + wz**2)\n",
    "    wx_norm = wx / norm\n",
    "    wy_norm = wy / norm\n",
    "    wz_norm = wz / norm\n",
    "\n",
    "    # Create a new figure and 3D axis\n",
    "    fig = plt.figure(figsize=(10, 8))\n",
    "    ax_plot = fig.add_subplot(111, projection='3d')\n",
    "\n",
    "    # Plot the sphere\n",
    "    u = np.linspace(0, 2 * np.pi, 100)\n",
    "    v = np.linspace(0, np.pi, 100)\n",
    "    x = radius * np.outer(np.cos(u), np.sin(v))\n",
    "    y = radius * np.outer(np.sin(u), np.sin(v))\n",
    "    z = radius * np.outer(np.ones(np.size(u)), np.cos(v))\n",
    "\n",
    "    # Plot the normalized angular acceleration samples on the sphere\n",
    "    ax_plot.scatter(wx_norm * radius, wy_norm * radius, wz_norm * radius, c='r', marker='o')\n",
    "\n",
    "    # Connect the angular acceleration samples with lines\n",
    "    for i in range(len(wx_norm) - 1):\n",
    "        ax_plot.plot([wx_norm[i] * radius, wx_norm[i + 1] * radius], [wy_norm[i] * radius, wy_norm[i + 1] * radius], [wz_norm[i] * radius, wz_norm[i + 1] * radius], color='b', linestyle='-', linewidth=1)\n",
    "\n",
    "    # Plot the sphere wireframe\n",
    "    ax_plot.plot_wireframe(x, y, z, color='k', alpha=0.2)\n",
    "\n",
    "    # Set axis labels and title\n",
    "    ax_plot.set_xlabel('X')\n",
    "    ax_plot.set_ylabel('Y')\n",
    "    ax_plot.set_zlabel('Z')\n",
    "    ax_plot.set_title(f'Angular Acceleration Data on a Sphere (Radius = {radius})')\n",
    "\n",
    "    # Adjust the aspect ratio and view angle\n",
    "    max_radius = radius * 1.2\n",
    "    ax_plot.auto_scale_xyz([-max_radius, max_radius], [-max_radius, max_radius], [-max_radius, max_radius])\n",
    "    ax_plot.view_init(elev=30, azim=-45)\n",
    "\n",
    "    # Display the plot in a separate window\n",
    "    plt.show()\n",
    "\n",
    "# Example usage\n",
    "wx = wx_values[::100]\n",
    "wy = wx_values[::100]\n",
    "wz = wz_values[::100]\n",
    "radius = 1  # Set the desired radius value\n",
    "\n",
    "plot_sphere(wx, wy, wz, radius)"
   ],
   "metadata": {
    "collapsed": false,
    "ExecuteTime": {
     "end_time": "2024-05-30T13:22:08.582653Z",
     "start_time": "2024-05-30T13:22:07.428106Z"
    }
   },
   "id": "efce8961a37e41d4",
   "execution_count": 3
  },
  {
   "cell_type": "code",
   "outputs": [],
   "source": [],
   "metadata": {
    "collapsed": false
   },
   "id": "8e71bcb8f510bf77"
  }
 ],
 "metadata": {
  "kernelspec": {
   "display_name": "Python 3",
   "language": "python",
   "name": "python3"
  },
  "language_info": {
   "codemirror_mode": {
    "name": "ipython",
    "version": 2
   },
   "file_extension": ".py",
   "mimetype": "text/x-python",
   "name": "python",
   "nbconvert_exporter": "python",
   "pygments_lexer": "ipython2",
   "version": "2.7.6"
  }
 },
 "nbformat": 4,
 "nbformat_minor": 5
}
