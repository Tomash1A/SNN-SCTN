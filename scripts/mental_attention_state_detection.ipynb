{
 "cells": [
  {
   "cell_type": "code",
   "execution_count": 1,
   "metadata": {
    "collapsed": true
   },
   "outputs": [],
   "source": [
    "import os\n",
    "import numpy as np\n",
    "import pandas as pd\n",
    "\n",
    "from scipy.io import loadmat\n",
    "from scipy.signal import resample\n",
    "from scipy.signal import butter, filtfilt\n",
    "\n",
    "import matplotlib.pyplot as plt"
   ]
  },
  {
   "cell_type": "code",
   "execution_count": 2,
   "outputs": [],
   "source": [
    "def plot_spectrogram(data, fs, fmin, fmax):\n",
    "    # plot the spectrogram\n",
    "    plt.figure(figsize=(14, 5))\n",
    "    Sxx, freqs, bins, im = plt.specgram(data, NFFT=256, Fs=fs,\n",
    "                                         noverlap=128, cmap='jet')\n",
    "    print(bins)\n",
    "    plt.ylim(fmin, fmax)\n",
    "    plt.xlabel('Time (s)')\n",
    "    plt.ylabel('Frequency (Hz)')\n",
    "    # plt.title(channel + f' Spectrogram {channel_name}({fmin} - {fmax}) Hz')\n",
    "    plt.imshow(Sxx, aspect='auto',\n",
    "               cmap='jet', origin='lower',\n",
    "               extent=[bins[0], bins[-1], freqs[0], freqs[-1]],\n",
    "               vmin=0, vmax=np.max(Sxx[(freqs >= fmin) & (freqs <= fmax)]))\n",
    "    plt.colorbar()\n",
    "    plt.show()\n",
    "\n",
    "\n",
    "def bp_filter(data, f_lo, f_hi, fs):\n",
    "    \"\"\" Digital band pass filter (6-th order Butterworth)\n",
    "    Args:\n",
    "        data: numpy.array, time along axis 0\n",
    "        (f_lo, f_hi): frequency band to extract [Hz]\n",
    "        fs: sampling frequency [Hz]\n",
    "    Returns:\n",
    "        data_filt: band-pass filtered data, same shape as data \"\"\"\n",
    "    data_filt = np.zeros_like(data)\n",
    "    f_ny = fs / 2.  # Nyquist frequency\n",
    "    b_lo = f_lo / f_ny  # normalized frequency [0..1]\n",
    "    b_hi = f_hi / f_ny  # normalized frequency [0..1]\n",
    "    # band-pass filter parameters\n",
    "    p_lp = {\"N\":6, \"Wn\":b_hi, \"btype\":\"lowpass\", \"analog\":False, \"output\":\"ba\"}\n",
    "    p_hp = {\"N\":6, \"Wn\":b_lo, \"btype\":\"highpass\", \"analog\":False, \"output\":\"ba\"}\n",
    "    bp_b1, bp_a1 = butter(**p_lp)\n",
    "    bp_b2, bp_a2 = butter(**p_hp)\n",
    "    data_filt = filtfilt(bp_b1, bp_a1, data, axis=0)\n",
    "    data_filt = filtfilt(bp_b2, bp_a2, data_filt, axis=0)\n",
    "    return data_filt\n",
    "\n",
    "\n",
    "#  Function to read in the EEG data and extract the valid lead data, low and high pass filter and z-transform the data.\n",
    "#  Returns a dataframe.\n",
    "def get_EEG_data(data_root, filename):\n",
    "    # Extract the data from one of these files.\n",
    "    hz = 128\n",
    "    #filename = 'eeg_record30.mat'\n",
    "    mat = loadmat(data_root + filename)\n",
    "    data = pd.DataFrame.from_dict(mat[\"o\"][\"data\"][0,0])\n",
    "\n",
    "    # Limit the data to the 7 valid EEG leads.\n",
    "    dat = data.filter(list(range(3, 17)))\n",
    "    dat.columns = list(range(1, 15))\n",
    "    dat = dat.filter([1,2, 3, 4,5,6, 7, 8, 9,10,11,12,13,14,17], axis=1)\n",
    "    labels = ['AF3','F7', 'F3','FC5','T7','P7','O1', 'O2','P8','T8', 'FC6','F4','F8','AF4']  # FP2 should really be AF4\n",
    "    dat.columns = labels\n",
    "\n",
    "\n",
    "    # Filter the data, high pass 2 Hz, low pass 40 Hz.\n",
    "    lo, hi = 2, 40\n",
    "    # Do the filtering.\n",
    "    datf = bp_filter(dat.to_numpy(), lo, hi, hz)\n",
    "\n",
    "    # Convert back to a dataframe.\n",
    "    dat = pd.DataFrame({c: datf[:, i] for i,c in enumerate(labels)})\n",
    "\n",
    "    # Z-transform each column\n",
    "    #dat = dat.apply(zscore)\n",
    "\n",
    "    return dat"
   ],
   "metadata": {
    "collapsed": false
   }
  },
  {
   "cell_type": "code",
   "execution_count": 3,
   "outputs": [],
   "source": [
    "data_root = '../datasets/EEG_data_for_Mental_Attention_State_Detection/EEG Data/'\n",
    "files = os.listdir(data_root)\n",
    "\n",
    "# For each file, print # minutes of data\n",
    "# for filename in files:\n",
    "#     dat = get_EEG_data(data_root, filename)\n",
    "#     # Compute microstates for this data\n",
    "#     eegdat = dat.to_numpy()\n",
    "#     print(filename, ' --->', np.round(len(eegdat)/128/60, 3))"
   ],
   "metadata": {
    "collapsed": false
   }
  },
  {
   "cell_type": "code",
   "execution_count": 4,
   "outputs": [
    {
     "data": {
      "text/plain": "             AF3        F7        F3       FC5        T7         P7  \\\n0       0.030598 -1.042316 -0.914643  0.176921  0.017885  -4.620994   \n1       1.999920  2.769463 -1.110293 -8.494444  0.739605  -2.814780   \n2       4.484537  5.829628  4.158422 -9.893508 -0.183470   0.541909   \n3       4.917474  2.158804  3.772884 -6.423484 -0.215997  -6.601297   \n4       3.817242 -4.247645 -5.192176 -1.583765  1.689969 -19.347343   \n...          ...       ...       ...       ...       ...        ...   \n381335  0.921161  7.961519  4.830240 -0.594518 -5.031878   0.356430   \n381336  0.618330 -0.111325 -3.873512  2.621598 -5.699799  -6.023455   \n381337  1.100377 -1.987721 -8.688189  0.841831 -6.278456  -8.322477   \n381338  1.607395  0.591293 -5.525716 -1.454917 -4.934711  -5.063601   \n381339 -0.592462  0.990988 -0.269666 -0.184676 -0.060368  -0.693207   \n\n               O1         O2         P8        T8        FC6        F4  \\\n0       -5.425149  -4.356795  -0.502782 -0.074147  -0.075766  0.040858   \n1       -4.678036  -2.590716   5.017268  0.472104  -2.136780  0.086290   \n2       -8.024098   4.241014   9.824190  0.380421   0.192974  0.119781   \n3      -12.685575   1.766921   7.592638 -0.107619  -0.098468  0.143687   \n4      -13.955797 -10.630535   1.878124 -0.087914  -4.804055  0.197885   \n...           ...        ...        ...       ...        ...       ...   \n381335   3.389654 -11.105139  -1.876601 -1.016601 -71.230785 -0.264813   \n381336  -0.387218 -19.057653  -8.719802 -0.073293  13.225188 -0.753886   \n381337  -3.076204 -18.766803 -16.162587 -0.181588  36.984107 -0.463101   \n381338  -1.889936 -10.950763 -13.789281 -0.531853  13.591765  0.105307   \n381339   0.530088  -5.285601  -1.499207 -0.100210  -6.089718 -0.069403   \n\n              F8       AF4  \n0      -0.105652  1.267994  \n1      -0.393494 -2.037869  \n2      -0.921544  2.662517  \n3       0.069199  4.854863  \n4       0.154350 -0.004248  \n...          ...       ...  \n381335  5.193548  9.745511  \n381336  5.174892  0.810294  \n381337  3.770103 -0.941950  \n381338  1.919611  1.198269  \n381339  0.742936  0.653306  \n\n[381340 rows x 14 columns]",
      "text/html": "<div>\n<style scoped>\n    .dataframe tbody tr th:only-of-type {\n        vertical-align: middle;\n    }\n\n    .dataframe tbody tr th {\n        vertical-align: top;\n    }\n\n    .dataframe thead th {\n        text-align: right;\n    }\n</style>\n<table border=\"1\" class=\"dataframe\">\n  <thead>\n    <tr style=\"text-align: right;\">\n      <th></th>\n      <th>AF3</th>\n      <th>F7</th>\n      <th>F3</th>\n      <th>FC5</th>\n      <th>T7</th>\n      <th>P7</th>\n      <th>O1</th>\n      <th>O2</th>\n      <th>P8</th>\n      <th>T8</th>\n      <th>FC6</th>\n      <th>F4</th>\n      <th>F8</th>\n      <th>AF4</th>\n    </tr>\n  </thead>\n  <tbody>\n    <tr>\n      <th>0</th>\n      <td>0.030598</td>\n      <td>-1.042316</td>\n      <td>-0.914643</td>\n      <td>0.176921</td>\n      <td>0.017885</td>\n      <td>-4.620994</td>\n      <td>-5.425149</td>\n      <td>-4.356795</td>\n      <td>-0.502782</td>\n      <td>-0.074147</td>\n      <td>-0.075766</td>\n      <td>0.040858</td>\n      <td>-0.105652</td>\n      <td>1.267994</td>\n    </tr>\n    <tr>\n      <th>1</th>\n      <td>1.999920</td>\n      <td>2.769463</td>\n      <td>-1.110293</td>\n      <td>-8.494444</td>\n      <td>0.739605</td>\n      <td>-2.814780</td>\n      <td>-4.678036</td>\n      <td>-2.590716</td>\n      <td>5.017268</td>\n      <td>0.472104</td>\n      <td>-2.136780</td>\n      <td>0.086290</td>\n      <td>-0.393494</td>\n      <td>-2.037869</td>\n    </tr>\n    <tr>\n      <th>2</th>\n      <td>4.484537</td>\n      <td>5.829628</td>\n      <td>4.158422</td>\n      <td>-9.893508</td>\n      <td>-0.183470</td>\n      <td>0.541909</td>\n      <td>-8.024098</td>\n      <td>4.241014</td>\n      <td>9.824190</td>\n      <td>0.380421</td>\n      <td>0.192974</td>\n      <td>0.119781</td>\n      <td>-0.921544</td>\n      <td>2.662517</td>\n    </tr>\n    <tr>\n      <th>3</th>\n      <td>4.917474</td>\n      <td>2.158804</td>\n      <td>3.772884</td>\n      <td>-6.423484</td>\n      <td>-0.215997</td>\n      <td>-6.601297</td>\n      <td>-12.685575</td>\n      <td>1.766921</td>\n      <td>7.592638</td>\n      <td>-0.107619</td>\n      <td>-0.098468</td>\n      <td>0.143687</td>\n      <td>0.069199</td>\n      <td>4.854863</td>\n    </tr>\n    <tr>\n      <th>4</th>\n      <td>3.817242</td>\n      <td>-4.247645</td>\n      <td>-5.192176</td>\n      <td>-1.583765</td>\n      <td>1.689969</td>\n      <td>-19.347343</td>\n      <td>-13.955797</td>\n      <td>-10.630535</td>\n      <td>1.878124</td>\n      <td>-0.087914</td>\n      <td>-4.804055</td>\n      <td>0.197885</td>\n      <td>0.154350</td>\n      <td>-0.004248</td>\n    </tr>\n    <tr>\n      <th>...</th>\n      <td>...</td>\n      <td>...</td>\n      <td>...</td>\n      <td>...</td>\n      <td>...</td>\n      <td>...</td>\n      <td>...</td>\n      <td>...</td>\n      <td>...</td>\n      <td>...</td>\n      <td>...</td>\n      <td>...</td>\n      <td>...</td>\n      <td>...</td>\n    </tr>\n    <tr>\n      <th>381335</th>\n      <td>0.921161</td>\n      <td>7.961519</td>\n      <td>4.830240</td>\n      <td>-0.594518</td>\n      <td>-5.031878</td>\n      <td>0.356430</td>\n      <td>3.389654</td>\n      <td>-11.105139</td>\n      <td>-1.876601</td>\n      <td>-1.016601</td>\n      <td>-71.230785</td>\n      <td>-0.264813</td>\n      <td>5.193548</td>\n      <td>9.745511</td>\n    </tr>\n    <tr>\n      <th>381336</th>\n      <td>0.618330</td>\n      <td>-0.111325</td>\n      <td>-3.873512</td>\n      <td>2.621598</td>\n      <td>-5.699799</td>\n      <td>-6.023455</td>\n      <td>-0.387218</td>\n      <td>-19.057653</td>\n      <td>-8.719802</td>\n      <td>-0.073293</td>\n      <td>13.225188</td>\n      <td>-0.753886</td>\n      <td>5.174892</td>\n      <td>0.810294</td>\n    </tr>\n    <tr>\n      <th>381337</th>\n      <td>1.100377</td>\n      <td>-1.987721</td>\n      <td>-8.688189</td>\n      <td>0.841831</td>\n      <td>-6.278456</td>\n      <td>-8.322477</td>\n      <td>-3.076204</td>\n      <td>-18.766803</td>\n      <td>-16.162587</td>\n      <td>-0.181588</td>\n      <td>36.984107</td>\n      <td>-0.463101</td>\n      <td>3.770103</td>\n      <td>-0.941950</td>\n    </tr>\n    <tr>\n      <th>381338</th>\n      <td>1.607395</td>\n      <td>0.591293</td>\n      <td>-5.525716</td>\n      <td>-1.454917</td>\n      <td>-4.934711</td>\n      <td>-5.063601</td>\n      <td>-1.889936</td>\n      <td>-10.950763</td>\n      <td>-13.789281</td>\n      <td>-0.531853</td>\n      <td>13.591765</td>\n      <td>0.105307</td>\n      <td>1.919611</td>\n      <td>1.198269</td>\n    </tr>\n    <tr>\n      <th>381339</th>\n      <td>-0.592462</td>\n      <td>0.990988</td>\n      <td>-0.269666</td>\n      <td>-0.184676</td>\n      <td>-0.060368</td>\n      <td>-0.693207</td>\n      <td>0.530088</td>\n      <td>-5.285601</td>\n      <td>-1.499207</td>\n      <td>-0.100210</td>\n      <td>-6.089718</td>\n      <td>-0.069403</td>\n      <td>0.742936</td>\n      <td>0.653306</td>\n    </tr>\n  </tbody>\n</table>\n<p>381340 rows × 14 columns</p>\n</div>"
     },
     "execution_count": 4,
     "metadata": {},
     "output_type": "execute_result"
    }
   ],
   "source": [
    "def get_trial_data(trial):\n",
    "    dat = get_EEG_data(data_root, files[trial])\n",
    "    return dat\n",
    "\n",
    "example_data = get_trial_data(1)\n",
    "channel_names = example_data.columns\n",
    "example_data"
   ],
   "metadata": {
    "collapsed": false
   }
  },
  {
   "cell_type": "code",
   "execution_count": 5,
   "outputs": [
    {
     "data": {
      "text/plain": "{1: array([3, 4, 5, 6, 7]),\n 2: array([10, 11, 12, 13, 14]),\n 3: array([17, 18, 19, 20, 21]),\n 4: array([24, 25, 26, 27, 28]),\n 6: array([31, 32, 33, 34])}"
     },
     "execution_count": 5,
     "metadata": {},
     "output_type": "execute_result"
    }
   ],
   "source": [
    "# 5 subjects, each subject did 7 trials. except the 5'th subject that did 6 trials.\n",
    "#  The first 2 trials were used to get familiar with the process.\n",
    "\n",
    "subject_map = {i: np.arange(3, 8) + 7*(i-1) for i in range(1, 5)}\n",
    "subject_map[6] = np.arange(3, 7) + 7*4\n",
    "subject_map"
   ],
   "metadata": {
    "collapsed": false
   }
  },
  {
   "cell_type": "code",
   "execution_count": 6,
   "outputs": [],
   "source": [
    "def plot_spectrogram(subject, trial, channel_name, fs, fmin, fmax):\n",
    "    # plot the spectrogram\n",
    "    plt.figure(figsize=(14, 5))\n",
    "    trial_name = subject_map[subject][trial]\n",
    "    data = get_trial_data(trial_name)[channel_name]\n",
    "    Sxx, freqs, bins, im = plt.specgram(data, NFFT=256, Fs=fs,\n",
    "                                         noverlap=128, cmap='jet')\n",
    "    # Sxx[:, 600] = 2000\n",
    "    # Sxx[:, 1200] = 2000\n",
    "    plt.vlines([600, 1200], ymin=fmin, ymax=fmax, colors='black')\n",
    "    plt.ylim(fmin, fmax)\n",
    "    plt.xlabel('Time (s)')\n",
    "    plt.ylabel('Frequency (Hz)')\n",
    "    plt.title(f'Subj{subject}, trial{trial} | trail name{trial_name}, ch={channel_name} fs={fs} band=({fmin} - {fmax})Hz')\n",
    "    plt.imshow(Sxx, aspect='auto',\n",
    "               cmap='jet', origin='lower',\n",
    "               extent=[bins[0], bins[-1], freqs[0], freqs[-1]],\n",
    "               vmin=0, vmax=np.max(Sxx[(freqs >= fmin) & (freqs <= fmax)]))\n",
    "    plt.colorbar()\n",
    "    plt.show()\n",
    "    return Sxx"
   ],
   "metadata": {
    "collapsed": false
   }
  },
  {
   "cell_type": "code",
   "execution_count": 7,
   "outputs": [
    {
     "data": {
      "text/plain": "<Figure size 1400x500 with 2 Axes>",
      "image/png": "[encoded data removed]"
     },
     "metadata": {},
     "output_type": "display_data"
    }
   ],
   "source": [
    "x = plot_spectrogram(subject=1, trial=1, channel_name='AF4', fs=128, fmin=2, fmax=40)"
   ],
   "metadata": {
    "collapsed": false
   }
  },
  {
   "cell_type": "code",
   "execution_count": 8,
   "outputs": [],
   "source": [
    "# number of samples in the original and resampled signals\n",
    "def resample_signal(f_new, f_source, data):\n",
    "    n_samples_orig = data.shape[0]\n",
    "    n_samples_new = int(n_samples_orig * f_new / f_source)\n",
    "\n",
    "    # resample the signal\n",
    "    return resample(data, n_samples_new)\n",
    "\n",
    "\n",
    "def generate_spikes(resonator, data_resampled, spikes_output_path=None):\n",
    "    output_neuron = resonator.layers_neurons[-1].neurons[-1]\n",
    "    resonator.input_full_data(data_resampled)\n",
    "    if spikes_output_path is not None:\n",
    "        np.savez_compressed(\n",
    "            file=spikes_output_path,\n",
    "            spikes=output_neuron.out_spikes[:output_neuron.index]\n",
    "        )"
   ],
   "metadata": {
    "collapsed": false
   }
  },
  {
   "cell_type": "code",
   "execution_count": null,
   "outputs": [
    {
     "data": {
      "text/plain": "  0%|          | 0/8400 [00:00<?, ?it/s]",
      "application/vnd.jupyter.widget-view+json": {
       "version_major": 2,
       "version_minor": 0,
       "model_id": "dbe84195eb9a440e8e4e364d1729c775"
      },
      "application/json": {
       "n": 0,
       "total": 8400,
       "elapsed": 0.0040624141693115234,
       "ncols": null,
       "nrows": null,
       "prefix": "",
       "ascii": false,
       "unit": "it",
       "unit_scale": false,
       "rate": null,
       "bar_format": null,
       "postfix": null,
       "unit_divisor": 1000,
       "initial": 0,
       "colour": null
      }
     },
     "metadata": {},
     "output_type": "display_data"
    },
    {
     "name": "stderr",
     "output_type": "stream",
     "text": [
      "<string>:3: NumbaTypeSafetyWarning: \u001B[1m\u001B[1m\u001B[1m\u001B[1m\u001B[1munsafe cast from int64 to int32. Precision may be lost.\u001B[0m\u001B[0m\u001B[0m\u001B[0m\u001B[0m\n"
     ]
    }
   ],
   "source": [
    "from snn.resonator import create_excitatory_inhibitory_resonator\n",
    "from pathlib import Path\n",
    "from tqdm.notebook import tqdm\n",
    "\n",
    "clk_resonators = {\n",
    "    16830: ['0.657', '1.523', '2.120', '2.504', '3.490'],\n",
    "    88402: ['4.604', '5.180', '5.755', '6.791', '8.000'],\n",
    "    154705: ['8.058', '9.065', '10.072', '11.885', '14.000'],\n",
    "    331510:  ['15.108', '17.266', '19.424', '21.583', '25.468'],\n",
    "    696172: ['36.259', '40.791', '45.324', '53.482', '63.000']\n",
    "}\n",
    "\n",
    "fs = 128\n",
    "with tqdm(total=len(channel_names) * (34 - 10) * (5 * 5)) as pbar:\n",
    "    for subject_name, subject_trials in subject_map.items():\n",
    "        for trial in subject_trials:\n",
    "            data = get_trial_data(trial)\n",
    "            for ch_i, ch in enumerate(data.columns):\n",
    "                ch_data = data[ch].values\n",
    "                data_resampled = resample_signal(16830 / 2, fs, ch_data)\n",
    "                for clk_i, (clk_freq, list_of_f0) in enumerate(clk_resonators.items()):\n",
    "                    spikes_folder = f'../datasets/EEG_data_for_Mental_Attention_State_Detection/EEG_spikes/{trial}/{ch}/{clk_freq}'\n",
    "                    if not os.path.exists(spikes_folder):\n",
    "                        os.makedirs(spikes_folder)\n",
    "                    for f_i, f0 in enumerate(list_of_f0):\n",
    "                        pbar.set_description(f'trial: {trial}, ch: {ch_i}/14 clk {clk_i}/5 f:{f_i}/5')\n",
    "                        pbar.update()\n",
    "                        spikes_file = f'{spikes_folder}/{f0}.npz'\n",
    "                        if Path(spikes_file).is_file():\n",
    "                            continue\n",
    "                        resonator = create_excitatory_inhibitory_resonator(\n",
    "                            freq0=f0,\n",
    "                            clk_freq=clk_freq)\n",
    "                        resonator.log_out_spikes(-1)\n",
    "                        generate_spikes(resonator, data_resampled, spikes_file)\n"
   ],
   "metadata": {
    "collapsed": false,
    "pycharm": {
     "is_executing": true
    }
   }
  },
  {
   "cell_type": "code",
   "execution_count": null,
   "outputs": [],
   "source": [],
   "metadata": {
    "collapsed": false
   }
  }
 ],
 "metadata": {
  "kernelspec": {
   "display_name": "Python 3",
   "language": "python",
   "name": "python3"
  },
  "language_info": {
   "codemirror_mode": {
    "name": "ipython",
    "version": 2
   },
   "file_extension": ".py",
   "mimetype": "text/x-python",
   "name": "python",
   "nbconvert_exporter": "python",
   "pygments_lexer": "ipython2",
   "version": "2.7.6"
  }
 },
 "nbformat": 4,
 "nbformat_minor": 0
}
